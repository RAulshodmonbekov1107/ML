{
 "cells": [
  {
   "cell_type": "code",
   "execution_count": 2,
   "id": "1cb90c3d-2af5-474a-ade1-e5c5d5a48586",
   "metadata": {},
   "outputs": [],
   "source": [
    "from sklearn import datasets"
   ]
  },
  {
   "cell_type": "code",
   "execution_count": 4,
   "id": "400763a5-22ef-41bc-a76b-2f320d496d4b",
   "metadata": {},
   "outputs": [],
   "source": [
    "iris_dataset=datasets.load_iris()\n"
   ]
  },
  {
   "cell_type": "code",
   "execution_count": 7,
   "id": "db8aaf54-eff3-4ab0-a48b-d0b9c1201f5c",
   "metadata": {},
   "outputs": [],
   "source": [
    "X=iris_dataset.data[:,:2]"
   ]
  },
  {
   "cell_type": "code",
   "execution_count": 13,
   "id": "fd07ad5f-577a-4a32-ab85-34e859b27d84",
   "metadata": {},
   "outputs": [],
   "source": [
    "x_count=len(X.flat)\n",
    "x_min=X[:,0].min()-.6\n",
    "x_max=X[:,0].max()+.5\n",
    "x_mean=X[:,0].mean()"
   ]
  },
  {
   "cell_type": "code",
   "execution_count": 14,
   "id": "7e878390-747e-4baf-8e02-3811c8f6f964",
   "metadata": {},
   "outputs": [
    {
     "data": {
      "text/plain": [
       "(300,\n",
       " np.float64(3.6999999999999997),\n",
       " np.float64(8.4),\n",
       " np.float64(5.843333333333334))"
      ]
     },
     "execution_count": 14,
     "metadata": {},
     "output_type": "execute_result"
    }
   ],
   "source": [
    "x_count, x_min, x_max, x_mean"
   ]
  },
  {
   "cell_type": "code",
   "execution_count": null,
   "id": "ede76db7-2395-4679-b5ef-21248e12111e",
   "metadata": {},
   "outputs": [],
   "source": []
  }
 ],
 "metadata": {
  "kernelspec": {
   "display_name": "Python 3 (ipykernel)",
   "language": "python",
   "name": "python3"
  },
  "language_info": {
   "codemirror_mode": {
    "name": "ipython",
    "version": 3
   },
   "file_extension": ".py",
   "mimetype": "text/x-python",
   "name": "python",
   "nbconvert_exporter": "python",
   "pygments_lexer": "ipython3",
   "version": "3.10.12"
  }
 },
 "nbformat": 4,
 "nbformat_minor": 5
}
