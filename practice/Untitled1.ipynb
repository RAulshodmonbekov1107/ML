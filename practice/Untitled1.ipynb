{
 "cells": [
  {
   "cell_type": "code",
   "execution_count": 55,
   "id": "0d0456db-a708-4aa0-8a25-f1c420e0b42a",
   "metadata": {},
   "outputs": [
    {
     "name": "stdout",
     "output_type": "stream",
     "text": [
      "Setup Complete\n"
     ]
    }
   ],
   "source": [
    "\n",
    "\n",
    "import numpy as np\n",
    "import pandas as pd \n",
    "import seaborn as sns\n",
    "import matplotlib.pyplot as plt\n",
    "%matplotlib inline\n",
    "from sklearn.metrics import mean_absolute_error\n",
    "from sklearn.metrics import mean_squared_error\n",
    "from sklearn.metrics import r2_score\n",
    "from sklearn.model_selection import train_test_split\n",
    "import warnings\n",
    "\n",
    "# Correcting the typo here\n",
    "warnings.filterwarnings('ignore')\n",
    "\n",
    "print(\"Setup Complete\")"
   ]
  },
  {
   "cell_type": "code",
   "execution_count": 58,
   "id": "9483e3d4-7f8d-4294-aa8a-f6b1909fb3e5",
   "metadata": {},
   "outputs": [
    {
     "data": {
      "text/html": [
       "<div>\n",
       "<style scoped>\n",
       "    .dataframe tbody tr th:only-of-type {\n",
       "        vertical-align: middle;\n",
       "    }\n",
       "\n",
       "    .dataframe tbody tr th {\n",
       "        vertical-align: top;\n",
       "    }\n",
       "\n",
       "    .dataframe thead th {\n",
       "        text-align: right;\n",
       "    }\n",
       "</style>\n",
       "<table border=\"1\" class=\"dataframe\">\n",
       "  <thead>\n",
       "    <tr style=\"text-align: right;\">\n",
       "      <th></th>\n",
       "      <th>X</th>\n",
       "      <th>Y</th>\n",
       "    </tr>\n",
       "  </thead>\n",
       "  <tbody>\n",
       "    <tr>\n",
       "      <th>54</th>\n",
       "      <td>55</td>\n",
       "      <td>39.888889</td>\n",
       "    </tr>\n",
       "    <tr>\n",
       "      <th>46</th>\n",
       "      <td>47</td>\n",
       "      <td>34.555556</td>\n",
       "    </tr>\n",
       "    <tr>\n",
       "      <th>157</th>\n",
       "      <td>158</td>\n",
       "      <td>108.555556</td>\n",
       "    </tr>\n",
       "    <tr>\n",
       "      <th>166</th>\n",
       "      <td>167</td>\n",
       "      <td>114.555556</td>\n",
       "    </tr>\n",
       "    <tr>\n",
       "      <th>60</th>\n",
       "      <td>61</td>\n",
       "      <td>43.888889</td>\n",
       "    </tr>\n",
       "  </tbody>\n",
       "</table>\n",
       "</div>"
      ],
      "text/plain": [
       "       X           Y\n",
       "54    55   39.888889\n",
       "46    47   34.555556\n",
       "157  158  108.555556\n",
       "166  167  114.555556\n",
       "60    61   43.888889"
      ]
     },
     "execution_count": 58,
     "metadata": {},
     "output_type": "execute_result"
    }
   ],
   "source": [
    "path='/home/user/Pictures/ML/archive/Linear Regression - Sheet1.csv'\n",
    "df=pd.read_csv(path)\n",
    "df.sample(5)"
   ]
  },
  {
   "cell_type": "code",
   "execution_count": 64,
   "id": "ca4c9442-7a99-4114-aff3-fb86270220e0",
   "metadata": {},
   "outputs": [
    {
     "data": {
      "text/html": [
       "<style type=\"text/css\">\n",
       "#T_c4738_row0_col0, #T_c4738_row0_col3, #T_c4738_row1_col0, #T_c4738_row1_col1, #T_c4738_row1_col2, #T_c4738_row1_col4, #T_c4738_row1_col5, #T_c4738_row1_col6, #T_c4738_row1_col7 {\n",
       "  background-color: #fff7fb;\n",
       "  color: #000000;\n",
       "}\n",
       "#T_c4738_row0_col1, #T_c4738_row0_col2, #T_c4738_row0_col4, #T_c4738_row0_col5, #T_c4738_row0_col6, #T_c4738_row0_col7, #T_c4738_row1_col3 {\n",
       "  background-color: #023858;\n",
       "  color: #f1f1f1;\n",
       "}\n",
       "</style>\n",
       "<table id=\"T_c4738\">\n",
       "  <thead>\n",
       "    <tr>\n",
       "      <th class=\"blank level0\" >&nbsp;</th>\n",
       "      <th id=\"T_c4738_level0_col0\" class=\"col_heading level0 col0\" >count</th>\n",
       "      <th id=\"T_c4738_level0_col1\" class=\"col_heading level0 col1\" >mean</th>\n",
       "      <th id=\"T_c4738_level0_col2\" class=\"col_heading level0 col2\" >std</th>\n",
       "      <th id=\"T_c4738_level0_col3\" class=\"col_heading level0 col3\" >min</th>\n",
       "      <th id=\"T_c4738_level0_col4\" class=\"col_heading level0 col4\" >25%</th>\n",
       "      <th id=\"T_c4738_level0_col5\" class=\"col_heading level0 col5\" >50%</th>\n",
       "      <th id=\"T_c4738_level0_col6\" class=\"col_heading level0 col6\" >75%</th>\n",
       "      <th id=\"T_c4738_level0_col7\" class=\"col_heading level0 col7\" >max</th>\n",
       "    </tr>\n",
       "  </thead>\n",
       "  <tbody>\n",
       "    <tr>\n",
       "      <th id=\"T_c4738_level0_row0\" class=\"row_heading level0 row0\" >X</th>\n",
       "      <td id=\"T_c4738_row0_col0\" class=\"data row0 col0\" >300.000000</td>\n",
       "      <td id=\"T_c4738_row0_col1\" class=\"data row0 col1\" >150.500000</td>\n",
       "      <td id=\"T_c4738_row0_col2\" class=\"data row0 col2\" >86.746758</td>\n",
       "      <td id=\"T_c4738_row0_col3\" class=\"data row0 col3\" >1.000000</td>\n",
       "      <td id=\"T_c4738_row0_col4\" class=\"data row0 col4\" >75.750000</td>\n",
       "      <td id=\"T_c4738_row0_col5\" class=\"data row0 col5\" >150.500000</td>\n",
       "      <td id=\"T_c4738_row0_col6\" class=\"data row0 col6\" >225.250000</td>\n",
       "      <td id=\"T_c4738_row0_col7\" class=\"data row0 col7\" >300.000000</td>\n",
       "    </tr>\n",
       "    <tr>\n",
       "      <th id=\"T_c4738_level0_row1\" class=\"row_heading level0 row1\" >Y</th>\n",
       "      <td id=\"T_c4738_row1_col0\" class=\"data row1 col0\" >300.000000</td>\n",
       "      <td id=\"T_c4738_row1_col1\" class=\"data row1 col1\" >102.215556</td>\n",
       "      <td id=\"T_c4738_row1_col2\" class=\"data row1 col2\" >57.842711</td>\n",
       "      <td id=\"T_c4738_row1_col3\" class=\"data row1 col3\" >1.888889</td>\n",
       "      <td id=\"T_c4738_row1_col4\" class=\"data row1 col4\" >52.388889</td>\n",
       "      <td id=\"T_c4738_row1_col5\" class=\"data row1 col5\" >102.222222</td>\n",
       "      <td id=\"T_c4738_row1_col6\" class=\"data row1 col6\" >152.055556</td>\n",
       "      <td id=\"T_c4738_row1_col7\" class=\"data row1 col7\" >201.888889</td>\n",
       "    </tr>\n",
       "  </tbody>\n",
       "</table>\n"
      ],
      "text/plain": [
       "<pandas.io.formats.style.Styler at 0x7b0a4537b310>"
      ]
     },
     "execution_count": 64,
     "metadata": {},
     "output_type": "execute_result"
    }
   ],
   "source": [
    "df.describe().T.style.background_gradient()"
   ]
  },
  {
   "cell_type": "code",
   "execution_count": 65,
   "id": "40f3c7ad-2b7e-4b6a-b9a8-ea9eaa0ea4ba",
   "metadata": {},
   "outputs": [
    {
     "name": "stdout",
     "output_type": "stream",
     "text": [
      "<class 'pandas.core.frame.DataFrame'>\n",
      "RangeIndex: 300 entries, 0 to 299\n",
      "Data columns (total 2 columns):\n",
      " #   Column  Non-Null Count  Dtype  \n",
      "---  ------  --------------  -----  \n",
      " 0   X       300 non-null    int64  \n",
      " 1   Y       300 non-null    float64\n",
      "dtypes: float64(1), int64(1)\n",
      "memory usage: 4.8 KB\n"
     ]
    }
   ],
   "source": [
    "df.info()"
   ]
  },
  {
   "cell_type": "code",
   "execution_count": 68,
   "id": "d57e2fa0-f881-45ee-8f71-f097094710a2",
   "metadata": {},
   "outputs": [
    {
     "data": {
      "text/plain": [
       "X    300\n",
       "Y    299\n",
       "dtype: int64"
      ]
     },
     "execution_count": 68,
     "metadata": {},
     "output_type": "execute_result"
    }
   ],
   "source": [
    "df.nunique()"
   ]
  },
  {
   "cell_type": "code",
   "execution_count": 70,
   "id": "509f65b3-25d3-4831-85bc-372bc60611fa",
   "metadata": {},
   "outputs": [
    {
     "name": "stdout",
     "output_type": "stream",
     "text": [
      "Missing Entries: 0\n"
     ]
    }
   ],
   "source": [
    "print('Missing Entries:',df.isna().sum().sum())"
   ]
  },
  {
   "cell_type": "code",
   "execution_count": 74,
   "id": "6e0d9b95-12d5-42e8-8c42-25a3ad0a85e5",
   "metadata": {},
   "outputs": [
    {
     "data": {
      "text/plain": [
       "<Axes: xlabel='Y'>"
      ]
     },
     "execution_count": 74,
     "metadata": {},
     "output_type": "execute_result"
    },
    {
     "data": {
      "image/png": "[encoded data removed]",
      "text/plain": [
       "<Figure size 2000x500 with 2 Axes>"
      ]
     },
     "metadata": {},
     "output_type": "display_data"
    }
   ],
   "source": [
    "plt.figure(figsize=(20,5))\n",
    "plt.subplot(4,1,1)\n",
    "sns.boxplot(x=df.X, color='#299FB9')\n",
    "\n",
    "plt.subplot(4,1,4)\n",
    "sns.boxplot(x=df.Y, color='#A1B2B3')"
   ]
  },
  {
   "cell_type": "code",
   "execution_count": 76,
   "id": "f51bac7d-6c8c-4da3-a687-499f70a9377e",
   "metadata": {},
   "outputs": [],
   "source": [
    "#Data prepration \n",
    "X=df.iloc[:,:-1].values\n",
    "y=df.iloc[:,-1].values"
   ]
  },
  {
   "cell_type": "code",
   "execution_count": 78,
   "id": "7a2b17b0-08a5-45b3-a85a-2c69618f73f9",
   "metadata": {},
   "outputs": [
    {
     "name": "stdout",
     "output_type": "stream",
     "text": [
      "(285, 1) (15, 1) (285,) (15,)\n"
     ]
    }
   ],
   "source": [
    "X_train, X_test, y_train, y_test=train_test_split(X,y,test_size=0.05, random_state=0)\n",
    "print(X_train.shape, X_test.shape, y_train.shape, y_test.shape)"
   ]
  },
  {
   "cell_type": "code",
   "execution_count": 79,
   "id": "e4ecf1cd-cb68-46a5-915e-ab65391cd90d",
   "metadata": {},
   "outputs": [
    {
     "name": "stdout",
     "output_type": "stream",
     "text": [
      "((285, 1), (15, 1), (285, 1), (15, 1))\n"
     ]
    }
   ],
   "source": [
    "y_train=np.array(y_train).reshape(-1,1)\n",
    "y_test=np.array(y_test).reshape(-1,1)\n",
    "y_test=pd.DataFrame(y_test)\n",
    "print((X_train.shape,X_test.shape,y_train.shape,y_test.shape))"
   ]
  },
  {
   "cell_type": "code",
   "execution_count": 80,
   "id": "a98c144f-80db-47c6-a5ca-3042b49b4dff",
   "metadata": {},
   "outputs": [],
   "source": [
    "(m,n)=X_train.shape"
   ]
  },
  {
   "cell_type": "code",
   "execution_count": 82,
   "id": "8b5b0c8e-adf9-4a9f-b904-208b4b835b20",
   "metadata": {},
   "outputs": [
    {
     "data": {
      "text/plain": [
       "array([[0.]])"
      ]
     },
     "execution_count": 82,
     "metadata": {},
     "output_type": "execute_result"
    }
   ],
   "source": [
    "theta=np.zeros((n,1))\n",
    "theta"
   ]
  },
  {
   "cell_type": "code",
   "execution_count": 86,
   "id": "0c8f345f-d08c-4eff-ad7a-71490360f9c0",
   "metadata": {},
   "outputs": [
    {
     "data": {
      "text/plain": [
       "np.float64(6847.696882060116)"
      ]
     },
     "execution_count": 86,
     "metadata": {},
     "output_type": "execute_result"
    }
   ],
   "source": [
    "def cost(X_train, y_train, theta):\n",
    "    G=0\n",
    "    h=X_train@theta\n",
    "    sqrErrors=(h-y_train)**2\n",
    "    G=1/(2*m)*sqrErrors.sum()\n",
    "    return G\n",
    "G=cost(X_train, y_train, theta)\n",
    "G"
   ]
  },
  {
   "cell_type": "code",
   "execution_count": 89,
   "id": "692bfa83-00f7-4eec-ba4c-c8164cea8db2",
   "metadata": {},
   "outputs": [],
   "source": [
    "num_iters=20\n",
    "alpha=0.00001\n",
    "\n",
    "def DescentGradient(X_train, y_train, theta, num_iters, alpha):\n",
    "    cost_history=[]\n",
    "    past_thetas=[theta]\n",
    "    for i in range(num_iters):\n",
    "        h=X_train@theta\n",
    "        delta=(X_train.transpose()@(h-y_train))/m\n",
    "        theta=theta-alpha*delta\n",
    "        cost_i=cost(X_train,y_train, theta)\n",
    "        cost_history.append(cost_i)\n",
    "        past_thetas.append(theta)\n",
    "\n",
    "    return past_thetas, cost_history\n",
    "\n",
    "past_thetas, cost_history=DescentGradient(X_train, y_train, theta, num_iters, alpha)\n",
    "theta=past_thetas[-1]"
   ]
  },
  {
   "cell_type": "code",
   "execution_count": 91,
   "id": "5e0d53a6-ce0a-4554-bee7-ce1d02278b1f",
   "metadata": {},
   "outputs": [
    {
     "data": {
      "image/png": "[encoded data removed]",
      "text/plain": [
       "<Figure size 1600x400 with 1 Axes>"
      ]
     },
     "metadata": {},
     "output_type": "display_data"
    }
   ],
   "source": [
    "\n",
    "x=np.arange(1,len(cost_history)+1)\n",
    "plt.figure(figsize=(16,4),facecolor='lavender')\n",
    "plt.axes().set_facecolor('ghostwhite')\n",
    "plt.plot(x,cost_history, 'go--',linewidth=2, markersize=12,color=\"crimson\")\n",
    "plt.grid()\n",
    "plt.xlabel(\"num_iters\")\n",
    "plt.ylabel(\"Cost Function\")\n",
    "plt.title('Cost Function Evaluation')\n",
    "plt.show()"
   ]
  },
  {
   "cell_type": "code",
   "execution_count": 48,
   "id": "1528fabf-42bb-4b6c-b93d-8564b1b47eae",
   "metadata": {},
   "outputs": [
    {
     "name": "stdout",
     "output_type": "stream",
     "text": [
      "(241,)\n"
     ]
    }
   ],
   "source": []
  },
  {
   "cell_type": "code",
   "execution_count": null,
   "id": "cf51de05-c382-4c52-99fb-f045eb39720e",
   "metadata": {},
   "outputs": [],
   "source": [
    "\n"
   ]
  },
  {
   "cell_type": "code",
   "execution_count": null,
   "id": "d6755675-e27a-4e92-817f-72126627d687",
   "metadata": {},
   "outputs": [],
   "source": []
  }
 ],
 "metadata": {
  "kernelspec": {
   "display_name": "Python 3 (ipykernel)",
   "language": "python",
   "name": "python3"
  },
  "language_info": {
   "codemirror_mode": {
    "name": "ipython",
    "version": 3
   },
   "file_extension": ".py",
   "mimetype": "text/x-python",
   "name": "python",
   "nbconvert_exporter": "python",
   "pygments_lexer": "ipython3",
   "version": "3.10.12"
  }
 },
 "nbformat": 4,
 "nbformat_minor": 5
}
