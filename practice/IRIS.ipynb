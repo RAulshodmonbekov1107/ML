{
 "cells": [
  {
   "cell_type": "code",
   "execution_count": 2,
   "id": "100a54d0-950d-4b74-8765-88dca0a8dc63",
   "metadata": {},
   "outputs": [
    {
     "name": "stdout",
     "output_type": "stream",
     "text": [
      "python: 3.10.12 (main, Sep 11 2024, 15:47:36) [GCC 11.4.0]\n"
     ]
    }
   ],
   "source": [
    "import sys\n",
    "print(\"python: {}\".format(sys.version))"
   ]
  },
  {
   "cell_type": "code",
   "execution_count": 9,
   "id": "86c29192-2059-48bb-ad50-5c94f570317e",
   "metadata": {},
   "outputs": [],
   "source": [
    "import pandas \n",
    "from pandas.plotting import scatter_matrix\n",
    "import matplotlib.pyplot as plt\n",
    "from sklearn import model_selection\n",
    "from sklearn.metrics import classification_report\n",
    "from sklearn.metrics import confusion_matrix\n",
    "from sklearn.metrics import accuracy_score\n",
    "from sklearn.linear_model import LogisticRegression\n",
    "from sklearn.tree import DecisionTreeClassifier\n",
    "from sklearn.neighbors import KNeighborsClassifier\n",
    "from sklearn.discriminant_analysis import LinearDiscriminantAnalysis\n",
    "from sklearn.naive_bayes import GaussianNB\n",
    "from sklearn.svm import SVC"
   ]
  },
  {
   "cell_type": "code",
   "execution_count": 25,
   "id": "4eb07d76-8ec5-445a-b443-c9e08ddd96a6",
   "metadata": {},
   "outputs": [],
   "source": [
    "url=\"https://archive.ics.uci.edu/ml/machine-learning-databases/iris/iris.data\"\n",
    "names=['set-length', 'set-width', 'brake-length','brake-width','myclass', 'description' ]\n",
    "dataset=pandas.read_csv(url, names=names)"
   ]
  },
  {
   "cell_type": "code",
   "execution_count": 26,
   "id": "40623361-79f6-4254-86af-ea5f4edc5560",
   "metadata": {},
   "outputs": [
    {
     "name": "stdout",
     "output_type": "stream",
     "text": [
      "(150, 6)\n"
     ]
    }
   ],
   "source": [
    "print(dataset.shape)"
   ]
  },
  {
   "cell_type": "code",
   "execution_count": 27,
   "id": "bd2c3a0a-ff89-41f2-91d8-1fe7394f8440",
   "metadata": {},
   "outputs": [
    {
     "name": "stdout",
     "output_type": "stream",
     "text": [
      "    set-length  set-width  brake-length  brake-width      myclass  description\n",
      "0          5.1        3.5           1.4          0.2  Iris-setosa          NaN\n",
      "1          4.9        3.0           1.4          0.2  Iris-setosa          NaN\n",
      "2          4.7        3.2           1.3          0.2  Iris-setosa          NaN\n",
      "3          4.6        3.1           1.5          0.2  Iris-setosa          NaN\n",
      "4          5.0        3.6           1.4          0.2  Iris-setosa          NaN\n",
      "5          5.4        3.9           1.7          0.4  Iris-setosa          NaN\n",
      "6          4.6        3.4           1.4          0.3  Iris-setosa          NaN\n",
      "7          5.0        3.4           1.5          0.2  Iris-setosa          NaN\n",
      "8          4.4        2.9           1.4          0.2  Iris-setosa          NaN\n",
      "9          4.9        3.1           1.5          0.1  Iris-setosa          NaN\n",
      "10         5.4        3.7           1.5          0.2  Iris-setosa          NaN\n",
      "11         4.8        3.4           1.6          0.2  Iris-setosa          NaN\n",
      "12         4.8        3.0           1.4          0.1  Iris-setosa          NaN\n",
      "13         4.3        3.0           1.1          0.1  Iris-setosa          NaN\n",
      "14         5.8        4.0           1.2          0.2  Iris-setosa          NaN\n",
      "15         5.7        4.4           1.5          0.4  Iris-setosa          NaN\n",
      "16         5.4        3.9           1.3          0.4  Iris-setosa          NaN\n",
      "17         5.1        3.5           1.4          0.3  Iris-setosa          NaN\n",
      "18         5.7        3.8           1.7          0.3  Iris-setosa          NaN\n",
      "19         5.1        3.8           1.5          0.3  Iris-setosa          NaN\n"
     ]
    }
   ],
   "source": [
    "print(dataset.head(20))"
   ]
  },
  {
   "cell_type": "code",
   "execution_count": 29,
   "id": "4056bebd-fd16-4dce-9af0-e9db7a1dd748",
   "metadata": {},
   "outputs": [
    {
     "name": "stdout",
     "output_type": "stream",
     "text": [
      "       set-length   set-width  brake-length  brake-width  description\n",
      "count  150.000000  150.000000    150.000000   150.000000          0.0\n",
      "mean     5.843333    3.054000      3.758667     1.198667          NaN\n",
      "std      0.828066    0.433594      1.764420     0.763161          NaN\n",
      "min      4.300000    2.000000      1.000000     0.100000          NaN\n",
      "25%      5.100000    2.800000      1.600000     0.300000          NaN\n",
      "50%      5.800000    3.000000      4.350000     1.300000          NaN\n",
      "75%      6.400000    3.300000      5.100000     1.800000          NaN\n",
      "max      7.900000    4.400000      6.900000     2.500000          NaN\n"
     ]
    }
   ],
   "source": [
    "print(dataset.describe())"
   ]
  },
  {
   "cell_type": "code",
   "execution_count": 30,
   "id": "f8df113f-50dc-4889-b743-f27e157794ea",
   "metadata": {},
   "outputs": [
    {
     "name": "stdout",
     "output_type": "stream",
     "text": [
      "     set-length  set-width  brake-length  brake-width         myclass  \\\n",
      "120         6.9        3.2           5.7          2.3  Iris-virginica   \n",
      "121         5.6        2.8           4.9          2.0  Iris-virginica   \n",
      "122         7.7        2.8           6.7          2.0  Iris-virginica   \n",
      "123         6.3        2.7           4.9          1.8  Iris-virginica   \n",
      "124         6.7        3.3           5.7          2.1  Iris-virginica   \n",
      "125         7.2        3.2           6.0          1.8  Iris-virginica   \n",
      "126         6.2        2.8           4.8          1.8  Iris-virginica   \n",
      "127         6.1        3.0           4.9          1.8  Iris-virginica   \n",
      "128         6.4        2.8           5.6          2.1  Iris-virginica   \n",
      "129         7.2        3.0           5.8          1.6  Iris-virginica   \n",
      "130         7.4        2.8           6.1          1.9  Iris-virginica   \n",
      "131         7.9        3.8           6.4          2.0  Iris-virginica   \n",
      "132         6.4        2.8           5.6          2.2  Iris-virginica   \n",
      "133         6.3        2.8           5.1          1.5  Iris-virginica   \n",
      "134         6.1        2.6           5.6          1.4  Iris-virginica   \n",
      "135         7.7        3.0           6.1          2.3  Iris-virginica   \n",
      "136         6.3        3.4           5.6          2.4  Iris-virginica   \n",
      "137         6.4        3.1           5.5          1.8  Iris-virginica   \n",
      "138         6.0        3.0           4.8          1.8  Iris-virginica   \n",
      "139         6.9        3.1           5.4          2.1  Iris-virginica   \n",
      "140         6.7        3.1           5.6          2.4  Iris-virginica   \n",
      "141         6.9        3.1           5.1          2.3  Iris-virginica   \n",
      "142         5.8        2.7           5.1          1.9  Iris-virginica   \n",
      "143         6.8        3.2           5.9          2.3  Iris-virginica   \n",
      "144         6.7        3.3           5.7          2.5  Iris-virginica   \n",
      "145         6.7        3.0           5.2          2.3  Iris-virginica   \n",
      "146         6.3        2.5           5.0          1.9  Iris-virginica   \n",
      "147         6.5        3.0           5.2          2.0  Iris-virginica   \n",
      "148         6.2        3.4           5.4          2.3  Iris-virginica   \n",
      "149         5.9        3.0           5.1          1.8  Iris-virginica   \n",
      "\n",
      "     description  \n",
      "120          NaN  \n",
      "121          NaN  \n",
      "122          NaN  \n",
      "123          NaN  \n",
      "124          NaN  \n",
      "125          NaN  \n",
      "126          NaN  \n",
      "127          NaN  \n",
      "128          NaN  \n",
      "129          NaN  \n",
      "130          NaN  \n",
      "131          NaN  \n",
      "132          NaN  \n",
      "133          NaN  \n",
      "134          NaN  \n",
      "135          NaN  \n",
      "136          NaN  \n",
      "137          NaN  \n",
      "138          NaN  \n",
      "139          NaN  \n",
      "140          NaN  \n",
      "141          NaN  \n",
      "142          NaN  \n",
      "143          NaN  \n",
      "144          NaN  \n",
      "145          NaN  \n",
      "146          NaN  \n",
      "147          NaN  \n",
      "148          NaN  \n",
      "149          NaN  \n"
     ]
    }
   ],
   "source": [
    "print(dataset.tail(30))"
   ]
  },
  {
   "cell_type": "code",
   "execution_count": 34,
   "id": "b2bac5db-b17e-4f30-8c45-e162a0a5236c",
   "metadata": {},
   "outputs": [
    {
     "data": {
      "text/plain": [
       "myclass\n",
       "Iris-setosa        50\n",
       "Iris-versicolor    50\n",
       "Iris-virginica     50\n",
       "dtype: int64"
      ]
     },
     "execution_count": 34,
     "metadata": {},
     "output_type": "execute_result"
    }
   ],
   "source": [
    "dataset.groupby('myclass').size()"
   ]
  },
  {
   "cell_type": "code",
   "execution_count": null,
   "id": "c332a231-2dab-461c-8390-aef81bb37f00",
   "metadata": {},
   "outputs": [],
   "source": []
  }
 ],
 "metadata": {
  "kernelspec": {
   "display_name": "Python 3 (ipykernel)",
   "language": "python",
   "name": "python3"
  },
  "language_info": {
   "codemirror_mode": {
    "name": "ipython",
    "version": 3
   },
   "file_extension": ".py",
   "mimetype": "text/x-python",
   "name": "python",
   "nbconvert_exporter": "python",
   "pygments_lexer": "ipython3",
   "version": "3.10.12"
  }
 },
 "nbformat": 4,
 "nbformat_minor": 5
}
